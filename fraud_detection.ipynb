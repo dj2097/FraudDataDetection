{
 "cells": [
  {
   "cell_type": "code",
   "execution_count": 1,
   "metadata": {},
   "outputs": [],
   "source": [
    "import pandas as pd\n",
    "import numpy as np\n",
    "import matplotlib.pyplot as plt\n",
    "import seaborn as sns"
   ]
  },
  {
   "cell_type": "code",
   "execution_count": 2,
   "metadata": {},
   "outputs": [],
   "source": [
    "data = pd.read_csv(r\"fraudDetection_dataset.csv\")"
   ]
  },
  {
   "cell_type": "code",
   "execution_count": 3,
   "metadata": {},
   "outputs": [
    {
     "data": {
      "text/html": [
       "<div>\n",
       "<style scoped>\n",
       "    .dataframe tbody tr th:only-of-type {\n",
       "        vertical-align: middle;\n",
       "    }\n",
       "\n",
       "    .dataframe tbody tr th {\n",
       "        vertical-align: top;\n",
       "    }\n",
       "\n",
       "    .dataframe thead th {\n",
       "        text-align: right;\n",
       "    }\n",
       "</style>\n",
       "<table border=\"1\" class=\"dataframe\">\n",
       "  <thead>\n",
       "    <tr style=\"text-align: right;\">\n",
       "      <th></th>\n",
       "      <th>step</th>\n",
       "      <th>type</th>\n",
       "      <th>amount</th>\n",
       "      <th>nameOrig</th>\n",
       "      <th>oldbalanceOrg</th>\n",
       "      <th>newbalanceOrig</th>\n",
       "      <th>nameDest</th>\n",
       "      <th>oldbalanceDest</th>\n",
       "      <th>newbalanceDest</th>\n",
       "      <th>isFraud</th>\n",
       "      <th>isFlaggedFraud</th>\n",
       "    </tr>\n",
       "  </thead>\n",
       "  <tbody>\n",
       "    <tr>\n",
       "      <th>0</th>\n",
       "      <td>1</td>\n",
       "      <td>CASH_IN</td>\n",
       "      <td>418688.27</td>\n",
       "      <td>C1756819670</td>\n",
       "      <td>1888091.55</td>\n",
       "      <td>2306779.82</td>\n",
       "      <td>C401424608</td>\n",
       "      <td>956455.03</td>\n",
       "      <td>1178808.14</td>\n",
       "      <td>0</td>\n",
       "      <td>0</td>\n",
       "    </tr>\n",
       "    <tr>\n",
       "      <th>1</th>\n",
       "      <td>2</td>\n",
       "      <td>CASH_IN</td>\n",
       "      <td>353902.72</td>\n",
       "      <td>C1583020257</td>\n",
       "      <td>3882328.25</td>\n",
       "      <td>4236230.97</td>\n",
       "      <td>C1401316767</td>\n",
       "      <td>583735.01</td>\n",
       "      <td>61151.23</td>\n",
       "      <td>0</td>\n",
       "      <td>0</td>\n",
       "    </tr>\n",
       "    <tr>\n",
       "      <th>2</th>\n",
       "      <td>5</td>\n",
       "      <td>PAYMENT</td>\n",
       "      <td>1574.63</td>\n",
       "      <td>C955581180</td>\n",
       "      <td>737.00</td>\n",
       "      <td>0.00</td>\n",
       "      <td>M108798399</td>\n",
       "      <td>0.00</td>\n",
       "      <td>0.00</td>\n",
       "      <td>0</td>\n",
       "      <td>0</td>\n",
       "    </tr>\n",
       "    <tr>\n",
       "      <th>3</th>\n",
       "      <td>2</td>\n",
       "      <td>PAYMENT</td>\n",
       "      <td>1994.71</td>\n",
       "      <td>C2101086700</td>\n",
       "      <td>5641.01</td>\n",
       "      <td>3646.30</td>\n",
       "      <td>M1910813448</td>\n",
       "      <td>0.00</td>\n",
       "      <td>0.00</td>\n",
       "      <td>0</td>\n",
       "      <td>0</td>\n",
       "    </tr>\n",
       "    <tr>\n",
       "      <th>4</th>\n",
       "      <td>1</td>\n",
       "      <td>CASH_OUT</td>\n",
       "      <td>681093.57</td>\n",
       "      <td>C1335061928</td>\n",
       "      <td>0.00</td>\n",
       "      <td>0.00</td>\n",
       "      <td>C1023714065</td>\n",
       "      <td>844302.40</td>\n",
       "      <td>1412484.09</td>\n",
       "      <td>0</td>\n",
       "      <td>0</td>\n",
       "    </tr>\n",
       "  </tbody>\n",
       "</table>\n",
       "</div>"
      ],
      "text/plain": [
       "   step      type     amount     nameOrig  oldbalanceOrg  newbalanceOrig  \\\n",
       "0     1   CASH_IN  418688.27  C1756819670     1888091.55      2306779.82   \n",
       "1     2   CASH_IN  353902.72  C1583020257     3882328.25      4236230.97   \n",
       "2     5   PAYMENT    1574.63   C955581180         737.00            0.00   \n",
       "3     2   PAYMENT    1994.71  C2101086700        5641.01         3646.30   \n",
       "4     1  CASH_OUT  681093.57  C1335061928           0.00            0.00   \n",
       "\n",
       "      nameDest  oldbalanceDest  newbalanceDest  isFraud  isFlaggedFraud  \n",
       "0   C401424608       956455.03      1178808.14        0               0  \n",
       "1  C1401316767       583735.01        61151.23        0               0  \n",
       "2   M108798399            0.00            0.00        0               0  \n",
       "3  M1910813448            0.00            0.00        0               0  \n",
       "4  C1023714065       844302.40      1412484.09        0               0  "
      ]
     },
     "execution_count": 3,
     "metadata": {},
     "output_type": "execute_result"
    }
   ],
   "source": [
    "data.head()"
   ]
  },
  {
   "cell_type": "code",
   "execution_count": 4,
   "metadata": {},
   "outputs": [
    {
     "data": {
      "text/html": [
       "<div>\n",
       "<style scoped>\n",
       "    .dataframe tbody tr th:only-of-type {\n",
       "        vertical-align: middle;\n",
       "    }\n",
       "\n",
       "    .dataframe tbody tr th {\n",
       "        vertical-align: top;\n",
       "    }\n",
       "\n",
       "    .dataframe thead th {\n",
       "        text-align: right;\n",
       "    }\n",
       "</style>\n",
       "<table border=\"1\" class=\"dataframe\">\n",
       "  <thead>\n",
       "    <tr style=\"text-align: right;\">\n",
       "      <th></th>\n",
       "      <th>step</th>\n",
       "      <th>type</th>\n",
       "      <th>amount</th>\n",
       "      <th>nameOrig</th>\n",
       "      <th>oldbalanceOrg</th>\n",
       "      <th>newbalanceOrig</th>\n",
       "      <th>nameDest</th>\n",
       "      <th>oldbalanceDest</th>\n",
       "      <th>newbalanceDest</th>\n",
       "      <th>isFraud</th>\n",
       "      <th>isFlaggedFraud</th>\n",
       "    </tr>\n",
       "  </thead>\n",
       "  <tbody>\n",
       "    <tr>\n",
       "      <th>7764</th>\n",
       "      <td>4</td>\n",
       "      <td>PAYMENT</td>\n",
       "      <td>1006.39</td>\n",
       "      <td>C675909854</td>\n",
       "      <td>7134.00</td>\n",
       "      <td>6127.61</td>\n",
       "      <td>M1448967471</td>\n",
       "      <td>0.00</td>\n",
       "      <td>0.00</td>\n",
       "      <td>0</td>\n",
       "      <td>0</td>\n",
       "    </tr>\n",
       "    <tr>\n",
       "      <th>7765</th>\n",
       "      <td>6</td>\n",
       "      <td>PAYMENT</td>\n",
       "      <td>22688.20</td>\n",
       "      <td>C752202140</td>\n",
       "      <td>426.00</td>\n",
       "      <td>0.00</td>\n",
       "      <td>M1896461827</td>\n",
       "      <td>0.00</td>\n",
       "      <td>0.00</td>\n",
       "      <td>0</td>\n",
       "      <td>0</td>\n",
       "    </tr>\n",
       "    <tr>\n",
       "      <th>7766</th>\n",
       "      <td>1</td>\n",
       "      <td>TRANSFER</td>\n",
       "      <td>383736.31</td>\n",
       "      <td>C340789130</td>\n",
       "      <td>11294.00</td>\n",
       "      <td>0.00</td>\n",
       "      <td>C1259769769</td>\n",
       "      <td>21835.74</td>\n",
       "      <td>252055.24</td>\n",
       "      <td>0</td>\n",
       "      <td>0</td>\n",
       "    </tr>\n",
       "    <tr>\n",
       "      <th>7767</th>\n",
       "      <td>5</td>\n",
       "      <td>PAYMENT</td>\n",
       "      <td>1021.03</td>\n",
       "      <td>C711320119</td>\n",
       "      <td>4272.12</td>\n",
       "      <td>3251.09</td>\n",
       "      <td>M977847192</td>\n",
       "      <td>0.00</td>\n",
       "      <td>0.00</td>\n",
       "      <td>0</td>\n",
       "      <td>0</td>\n",
       "    </tr>\n",
       "    <tr>\n",
       "      <th>7768</th>\n",
       "      <td>1</td>\n",
       "      <td>PAYMENT</td>\n",
       "      <td>2221.22</td>\n",
       "      <td>C771642661</td>\n",
       "      <td>60061.33</td>\n",
       "      <td>57840.12</td>\n",
       "      <td>M19467337</td>\n",
       "      <td>0.00</td>\n",
       "      <td>0.00</td>\n",
       "      <td>0</td>\n",
       "      <td>0</td>\n",
       "    </tr>\n",
       "  </tbody>\n",
       "</table>\n",
       "</div>"
      ],
      "text/plain": [
       "      step      type     amount    nameOrig  oldbalanceOrg  newbalanceOrig  \\\n",
       "7764     4   PAYMENT    1006.39  C675909854        7134.00         6127.61   \n",
       "7765     6   PAYMENT   22688.20  C752202140         426.00            0.00   \n",
       "7766     1  TRANSFER  383736.31  C340789130       11294.00            0.00   \n",
       "7767     5   PAYMENT    1021.03  C711320119        4272.12         3251.09   \n",
       "7768     1   PAYMENT    2221.22  C771642661       60061.33        57840.12   \n",
       "\n",
       "         nameDest  oldbalanceDest  newbalanceDest  isFraud  isFlaggedFraud  \n",
       "7764  M1448967471            0.00            0.00        0               0  \n",
       "7765  M1896461827            0.00            0.00        0               0  \n",
       "7766  C1259769769        21835.74       252055.24        0               0  \n",
       "7767   M977847192            0.00            0.00        0               0  \n",
       "7768    M19467337            0.00            0.00        0               0  "
      ]
     },
     "execution_count": 4,
     "metadata": {},
     "output_type": "execute_result"
    }
   ],
   "source": [
    "data.tail()"
   ]
  },
  {
   "cell_type": "code",
   "execution_count": 5,
   "metadata": {},
   "outputs": [
    {
     "data": {
      "text/plain": [
       "(7769, 11)"
      ]
     },
     "execution_count": 5,
     "metadata": {},
     "output_type": "execute_result"
    }
   ],
   "source": [
    "data.shape"
   ]
  },
  {
   "cell_type": "code",
   "execution_count": 6,
   "metadata": {},
   "outputs": [
    {
     "name": "stdout",
     "output_type": "stream",
     "text": [
      "<class 'pandas.core.frame.DataFrame'>\n",
      "RangeIndex: 7769 entries, 0 to 7768\n",
      "Data columns (total 11 columns):\n",
      " #   Column          Non-Null Count  Dtype  \n",
      "---  ------          --------------  -----  \n",
      " 0   step            7769 non-null   int64  \n",
      " 1   type            7769 non-null   object \n",
      " 2   amount          7769 non-null   float64\n",
      " 3   nameOrig        7769 non-null   object \n",
      " 4   oldbalanceOrg   7769 non-null   float64\n",
      " 5   newbalanceOrig  7769 non-null   float64\n",
      " 6   nameDest        7769 non-null   object \n",
      " 7   oldbalanceDest  7769 non-null   float64\n",
      " 8   newbalanceDest  7769 non-null   float64\n",
      " 9   isFraud         7769 non-null   int64  \n",
      " 10  isFlaggedFraud  7769 non-null   int64  \n",
      "dtypes: float64(5), int64(3), object(3)\n",
      "memory usage: 667.8+ KB\n"
     ]
    }
   ],
   "source": [
    "data.info()"
   ]
  },
  {
   "cell_type": "code",
   "execution_count": 7,
   "metadata": {},
   "outputs": [
    {
     "data": {
      "text/plain": [
       "step              0\n",
       "type              0\n",
       "amount            0\n",
       "nameOrig          0\n",
       "oldbalanceOrg     0\n",
       "newbalanceOrig    0\n",
       "nameDest          0\n",
       "oldbalanceDest    0\n",
       "newbalanceDest    0\n",
       "isFraud           0\n",
       "isFlaggedFraud    0\n",
       "dtype: int64"
      ]
     },
     "execution_count": 7,
     "metadata": {},
     "output_type": "execute_result"
    }
   ],
   "source": [
    "\n",
    "data.isna().sum()  #check data is clean or not..."
   ]
  },
  {
   "cell_type": "code",
   "execution_count": 8,
   "metadata": {},
   "outputs": [
    {
     "name": "stdout",
     "output_type": "stream",
     "text": [
      "66 Of Frauds\n",
      "7703 No Frauds\n"
     ]
    },
    {
     "data": {
      "image/png": "[encoded data removed]",
      "text/plain": [
       "<Figure size 640x480 with 1 Axes>"
      ]
     },
     "metadata": {},
     "output_type": "display_data"
    }
   ],
   "source": [
    "fraud=len(data[data[\"isFraud\"]==1])\n",
    "no_fraud=len(data[data[\"isFraud\"]==0])\n",
    "print(f\"{fraud} Of Frauds\")\n",
    "print(f\"{no_fraud} No Frauds\")\n",
    "sns.countplot(data=data,x=\"isFraud\")\n",
    "plt.title(\"No Fraud Vs Fraud\")\n",
    "plt.show()"
   ]
  },
  {
   "cell_type": "code",
   "execution_count": 9,
   "metadata": {},
   "outputs": [
    {
     "data": {
      "image/png": "[encoded data removed]",
      "text/plain": [
       "<Figure size 640x480 with 1 Axes>"
      ]
     },
     "metadata": {},
     "output_type": "display_data"
    }
   ],
   "source": [
    "fraud_df=data.loc[data[\"isFraud\"]==0][:66]\n",
    "no_fraud_df=data.loc[data[\"isFraud\"]==1]\n",
    "new_norm_dist_df=pd.concat([fraud_df,no_fraud_df])\n",
    "sns.countplot(data=new_norm_dist_df,x=\"isFraud\")\n",
    "plt.title(\"No Fraud VS Fraud Balanced\")\n",
    "plt.show()"
   ]
  },
  {
   "cell_type": "code",
   "execution_count": 10,
   "metadata": {},
   "outputs": [
    {
     "name": "stderr",
     "output_type": "stream",
     "text": [
      "C:\\Users\\USER\\AppData\\Local\\Temp\\ipykernel_10504\\3255516537.py:3: FutureWarning: The default value of numeric_only in DataFrame.corr is deprecated. In a future version, it will default to False. Select only valid columns or specify the value of numeric_only to silence this warning.\n",
      "  corr_data=new_norm_dist_df.corr()\n"
     ]
    },
    {
     "data": {
      "image/png": "[encoded data removed]",
      "text/plain": [
       "<Figure size 2500x800 with 2 Axes>"
      ]
     },
     "metadata": {},
     "output_type": "display_data"
    }
   ],
   "source": [
    "sns.color_palette(palette=\"husl\",n_colors=10)\n",
    "plt.figure(figsize=(25,8))\n",
    "corr_data=new_norm_dist_df.corr()\n",
    "sns.heatmap(data=corr_data)\n",
    "plt.title(\"Corrolated Values\")\n",
    "plt.show()"
   ]
  },
  {
   "cell_type": "code",
   "execution_count": 11,
   "metadata": {},
   "outputs": [
    {
     "data": {
      "text/plain": [
       "0    7703\n",
       "1      66\n",
       "Name: isFraud, dtype: int64"
      ]
     },
     "execution_count": 11,
     "metadata": {},
     "output_type": "execute_result"
    }
   ],
   "source": [
    "data.isFraud.value_counts()"
   ]
  },
  {
   "cell_type": "code",
   "execution_count": 12,
   "metadata": {},
   "outputs": [
    {
     "name": "stdout",
     "output_type": "stream",
     "text": [
      "   step      type     amount     nameOrig  oldbalanceOrg  newbalanceOrig  \\\n",
      "0     1   CASH_IN  418688.27  C1756819670     1888091.55      2306779.82   \n",
      "1     2   CASH_IN  353902.72  C1583020257     3882328.25      4236230.97   \n",
      "2     5   PAYMENT    1574.63   C955581180         737.00            0.00   \n",
      "3     2   PAYMENT    1994.71  C2101086700        5641.01         3646.30   \n",
      "4     1  CASH_OUT  681093.57  C1335061928           0.00            0.00   \n",
      "\n",
      "      nameDest  oldbalanceDest  newbalanceDest   isFraud  isFlaggedFraud  \n",
      "0   C401424608       956455.03      1178808.14  No Fraud               0  \n",
      "1  C1401316767       583735.01        61151.23  No Fraud               0  \n",
      "2   M108798399            0.00            0.00  No Fraud               0  \n",
      "3  M1910813448            0.00            0.00  No Fraud               0  \n",
      "4  C1023714065       844302.40      1412484.09  No Fraud               0  \n"
     ]
    }
   ],
   "source": [
    "data[\"isFraud\"] = data[\"isFraud\"].map({0:\"No Fraud\", 1:\"Fraud\"})\n",
    "print(data.head())"
   ]
  },
  {
   "cell_type": "code",
   "execution_count": 13,
   "metadata": {},
   "outputs": [
    {
     "data": {
      "text/plain": [
       "0    7769\n",
       "Name: isFlaggedFraud, dtype: int64"
      ]
     },
     "execution_count": 13,
     "metadata": {},
     "output_type": "execute_result"
    }
   ],
   "source": [
    "data.isFlaggedFraud.value_counts()"
   ]
  },
  {
   "cell_type": "code",
   "execution_count": 14,
   "metadata": {},
   "outputs": [],
   "source": [
    "data = data.drop(['nameOrig','nameDest'], axis = 1)  #data preprocessing"
   ]
  },
  {
   "cell_type": "code",
   "execution_count": 15,
   "metadata": {},
   "outputs": [],
   "source": [
    "#Import Label encoder\n",
    "from sklearn import preprocessing \n",
    "\n",
    "#Label_encoder object knows how to understand word Labels.\n",
    "label_encoder = preprocessing.LabelEncoder()\n",
    "\n",
    "data['type'] = label_encoder.fit_transform(data['type'])"
   ]
  },
  {
   "cell_type": "code",
   "execution_count": 16,
   "metadata": {},
   "outputs": [
    {
     "name": "stdout",
     "output_type": "stream",
     "text": [
      "      step  type     amount  oldbalanceOrg  newbalanceOrig  oldbalanceDest  \\\n",
      "0        1     0  418688.27     1888091.55      2306779.82       956455.03   \n",
      "1        2     0  353902.72     3882328.25      4236230.97       583735.01   \n",
      "2        5     3    1574.63         737.00            0.00            0.00   \n",
      "3        2     3    1994.71        5641.01         3646.30            0.00   \n",
      "4        1     1  681093.57           0.00            0.00       844302.40   \n",
      "...    ...   ...        ...            ...             ...             ...   \n",
      "7764     4     3    1006.39        7134.00         6127.61            0.00   \n",
      "7765     6     3   22688.20         426.00            0.00            0.00   \n",
      "7766     1     4  383736.31       11294.00            0.00        21835.74   \n",
      "7767     5     3    1021.03        4272.12         3251.09            0.00   \n",
      "7768     1     3    2221.22       60061.33        57840.12            0.00   \n",
      "\n",
      "      newbalanceDest  isFlaggedFraud  \n",
      "0         1178808.14               0  \n",
      "1           61151.23               0  \n",
      "2               0.00               0  \n",
      "3               0.00               0  \n",
      "4         1412484.09               0  \n",
      "...              ...             ...  \n",
      "7764            0.00               0  \n",
      "7765            0.00               0  \n",
      "7766       252055.24               0  \n",
      "7767            0.00               0  \n",
      "7768            0.00               0  \n",
      "\n",
      "[7769 rows x 8 columns]\n"
     ]
    }
   ],
   "source": [
    "X, y = data.loc[:, data.columns != 'isFraud'], data['isFraud']\n",
    "print(X)"
   ]
  },
  {
   "cell_type": "code",
   "execution_count": 17,
   "metadata": {},
   "outputs": [
    {
     "name": "stdout",
     "output_type": "stream",
     "text": [
      "Requirement already satisfied: scikit-learn in c:\\users\\user\\anaconda3\\lib\\site-packages (1.2.1)\n",
      "Requirement already satisfied: numpy>=1.17.3 in c:\\users\\user\\anaconda3\\lib\\site-packages (from scikit-learn) (1.23.5)\n",
      "Requirement already satisfied: joblib>=1.1.1 in c:\\users\\user\\anaconda3\\lib\\site-packages (from scikit-learn) (1.1.1)\n",
      "Requirement already satisfied: threadpoolctl>=2.0.0 in c:\\users\\user\\anaconda3\\lib\\site-packages (from scikit-learn) (2.2.0)\n",
      "Requirement already satisfied: scipy>=1.3.2 in c:\\users\\user\\anaconda3\\lib\\site-packages (from scikit-learn) (1.10.0)\n",
      "Note: you may need to restart the kernel to use updated packages.\n"
     ]
    },
    {
     "name": "stderr",
     "output_type": "stream",
     "text": [
      "WARNING: There was an error checking the latest version of pip.\n"
     ]
    }
   ],
   "source": [
    "pip install scikit-learn"
   ]
  },
  {
   "cell_type": "code",
   "execution_count": 18,
   "metadata": {},
   "outputs": [],
   "source": [
    "from sklearn.naive_bayes import GaussianNB\n",
    "from sklearn.impute import SimpleImputer\n",
    "imputer=SimpleImputer(missing_values=-1,strategy='mean')"
   ]
  },
  {
   "cell_type": "code",
   "execution_count": 19,
   "metadata": {},
   "outputs": [
    {
     "name": "stdout",
     "output_type": "stream",
     "text": [
      "Accuracy: 0.9859594383775351\n"
     ]
    }
   ],
   "source": [
    "#Import Gaussian Naive Bayes model\n",
    "#from sklearn.naive_bayes impimp = SimpleImputer(missing_values=-1, strategy='mean')ort GaussianNB\n",
    "from sklearn import metrics   #Import scikit-Learn metrics module for accuracy calculation\n",
    "from sklearn.experimental import enable_iterative_imputer\n",
    "from sklearn.impute import IterativeImputer\n",
    "data.fillna(X)\n",
    "\n",
    "from sklearn.model_selection import train_test_split\n",
    "X_train, X_test, y_train, y_test = train_test_split(X, y, test_size=0.33, random_state=42)\n",
    "#create a Gaussian Classifier\n",
    "gnb = GaussianNB()\n",
    "\n",
    "#X_cleaned=X.dropna()               #replace NaN values with the mean of each column\n",
    "#Train the model using the training sets\n",
    "gnb.fit(X_train, y_train)\n",
    "\n",
    "# Predict the response for test dataset\n",
    "y_pred = gnb.predict(X_test)\n",
    "print(\"Accuracy:\",metrics.accuracy_score(y_test, y_pred))"
   ]
  },
  {
   "cell_type": "code",
   "execution_count": 20,
   "metadata": {},
   "outputs": [
    {
     "name": "stdout",
     "output_type": "stream",
     "text": [
      "Accuracy : 0.9656786271450858\n"
     ]
    }
   ],
   "source": [
    "from sklearn.linear_model import LogisticRegression\n",
    "model = LogisticRegression(random_state= 0)\n",
    "model.fit(X_train, y_train)\n",
    "y_pred = model.predict(X_test)\n",
    "print(\"Accuracy :\", metrics.accuracy_score(y_test, y_pred))"
   ]
  },
  {
   "cell_type": "code",
   "execution_count": 21,
   "metadata": {},
   "outputs": [
    {
     "name": "stdout",
     "output_type": "stream",
     "text": [
      "Accuracy: 0.9961389961389961\n"
     ]
    }
   ],
   "source": [
    "from sklearn.tree import DecisionTreeClassifier\n",
    "X_train, X_test, y_train, y_test = train_test_split(X,y,test_size=0.10, random_state=42)\n",
    "model = DecisionTreeClassifier()\n",
    "model.fit(X_train,y_train)\n",
    "print(\"Accuracy:\", model.score(X_test,y_test))"
   ]
  },
  {
   "cell_type": "code",
   "execution_count": 22,
   "metadata": {},
   "outputs": [
    {
     "data": {
      "text/html": [
       "<div>\n",
       "<style scoped>\n",
       "    .dataframe tbody tr th:only-of-type {\n",
       "        vertical-align: middle;\n",
       "    }\n",
       "\n",
       "    .dataframe tbody tr th {\n",
       "        vertical-align: top;\n",
       "    }\n",
       "\n",
       "    .dataframe thead th {\n",
       "        text-align: right;\n",
       "    }\n",
       "</style>\n",
       "<table border=\"1\" class=\"dataframe\">\n",
       "  <thead>\n",
       "    <tr style=\"text-align: right;\">\n",
       "      <th></th>\n",
       "      <th>step</th>\n",
       "      <th>type</th>\n",
       "      <th>amount</th>\n",
       "      <th>oldbalanceOrg</th>\n",
       "      <th>newbalanceOrig</th>\n",
       "      <th>oldbalanceDest</th>\n",
       "      <th>newbalanceDest</th>\n",
       "      <th>isFlaggedFraud</th>\n",
       "    </tr>\n",
       "  </thead>\n",
       "  <tbody>\n",
       "    <tr>\n",
       "      <th>0</th>\n",
       "      <td>1</td>\n",
       "      <td>0</td>\n",
       "      <td>418688.27</td>\n",
       "      <td>1888091.55</td>\n",
       "      <td>2306779.82</td>\n",
       "      <td>956455.03</td>\n",
       "      <td>1178808.14</td>\n",
       "      <td>0</td>\n",
       "    </tr>\n",
       "    <tr>\n",
       "      <th>1</th>\n",
       "      <td>2</td>\n",
       "      <td>0</td>\n",
       "      <td>353902.72</td>\n",
       "      <td>3882328.25</td>\n",
       "      <td>4236230.97</td>\n",
       "      <td>583735.01</td>\n",
       "      <td>61151.23</td>\n",
       "      <td>0</td>\n",
       "    </tr>\n",
       "    <tr>\n",
       "      <th>2</th>\n",
       "      <td>5</td>\n",
       "      <td>3</td>\n",
       "      <td>1574.63</td>\n",
       "      <td>737.00</td>\n",
       "      <td>0.00</td>\n",
       "      <td>0.00</td>\n",
       "      <td>0.00</td>\n",
       "      <td>0</td>\n",
       "    </tr>\n",
       "    <tr>\n",
       "      <th>3</th>\n",
       "      <td>2</td>\n",
       "      <td>3</td>\n",
       "      <td>1994.71</td>\n",
       "      <td>5641.01</td>\n",
       "      <td>3646.30</td>\n",
       "      <td>0.00</td>\n",
       "      <td>0.00</td>\n",
       "      <td>0</td>\n",
       "    </tr>\n",
       "    <tr>\n",
       "      <th>4</th>\n",
       "      <td>1</td>\n",
       "      <td>1</td>\n",
       "      <td>681093.57</td>\n",
       "      <td>0.00</td>\n",
       "      <td>0.00</td>\n",
       "      <td>844302.40</td>\n",
       "      <td>1412484.09</td>\n",
       "      <td>0</td>\n",
       "    </tr>\n",
       "    <tr>\n",
       "      <th>...</th>\n",
       "      <td>...</td>\n",
       "      <td>...</td>\n",
       "      <td>...</td>\n",
       "      <td>...</td>\n",
       "      <td>...</td>\n",
       "      <td>...</td>\n",
       "      <td>...</td>\n",
       "      <td>...</td>\n",
       "    </tr>\n",
       "    <tr>\n",
       "      <th>7764</th>\n",
       "      <td>4</td>\n",
       "      <td>3</td>\n",
       "      <td>1006.39</td>\n",
       "      <td>7134.00</td>\n",
       "      <td>6127.61</td>\n",
       "      <td>0.00</td>\n",
       "      <td>0.00</td>\n",
       "      <td>0</td>\n",
       "    </tr>\n",
       "    <tr>\n",
       "      <th>7765</th>\n",
       "      <td>6</td>\n",
       "      <td>3</td>\n",
       "      <td>22688.20</td>\n",
       "      <td>426.00</td>\n",
       "      <td>0.00</td>\n",
       "      <td>0.00</td>\n",
       "      <td>0.00</td>\n",
       "      <td>0</td>\n",
       "    </tr>\n",
       "    <tr>\n",
       "      <th>7766</th>\n",
       "      <td>1</td>\n",
       "      <td>4</td>\n",
       "      <td>383736.31</td>\n",
       "      <td>11294.00</td>\n",
       "      <td>0.00</td>\n",
       "      <td>21835.74</td>\n",
       "      <td>252055.24</td>\n",
       "      <td>0</td>\n",
       "    </tr>\n",
       "    <tr>\n",
       "      <th>7767</th>\n",
       "      <td>5</td>\n",
       "      <td>3</td>\n",
       "      <td>1021.03</td>\n",
       "      <td>4272.12</td>\n",
       "      <td>3251.09</td>\n",
       "      <td>0.00</td>\n",
       "      <td>0.00</td>\n",
       "      <td>0</td>\n",
       "    </tr>\n",
       "    <tr>\n",
       "      <th>7768</th>\n",
       "      <td>1</td>\n",
       "      <td>3</td>\n",
       "      <td>2221.22</td>\n",
       "      <td>60061.33</td>\n",
       "      <td>57840.12</td>\n",
       "      <td>0.00</td>\n",
       "      <td>0.00</td>\n",
       "      <td>0</td>\n",
       "    </tr>\n",
       "  </tbody>\n",
       "</table>\n",
       "<p>7769 rows × 8 columns</p>\n",
       "</div>"
      ],
      "text/plain": [
       "      step  type     amount  oldbalanceOrg  newbalanceOrig  oldbalanceDest  \\\n",
       "0        1     0  418688.27     1888091.55      2306779.82       956455.03   \n",
       "1        2     0  353902.72     3882328.25      4236230.97       583735.01   \n",
       "2        5     3    1574.63         737.00            0.00            0.00   \n",
       "3        2     3    1994.71        5641.01         3646.30            0.00   \n",
       "4        1     1  681093.57           0.00            0.00       844302.40   \n",
       "...    ...   ...        ...            ...             ...             ...   \n",
       "7764     4     3    1006.39        7134.00         6127.61            0.00   \n",
       "7765     6     3   22688.20         426.00            0.00            0.00   \n",
       "7766     1     4  383736.31       11294.00            0.00        21835.74   \n",
       "7767     5     3    1021.03        4272.12         3251.09            0.00   \n",
       "7768     1     3    2221.22       60061.33        57840.12            0.00   \n",
       "\n",
       "      newbalanceDest  isFlaggedFraud  \n",
       "0         1178808.14               0  \n",
       "1           61151.23               0  \n",
       "2               0.00               0  \n",
       "3               0.00               0  \n",
       "4         1412484.09               0  \n",
       "...              ...             ...  \n",
       "7764            0.00               0  \n",
       "7765            0.00               0  \n",
       "7766       252055.24               0  \n",
       "7767            0.00               0  \n",
       "7768            0.00               0  \n",
       "\n",
       "[7769 rows x 8 columns]"
      ]
     },
     "execution_count": 22,
     "metadata": {},
     "output_type": "execute_result"
    }
   ],
   "source": [
    "X"
   ]
  },
  {
   "cell_type": "code",
   "execution_count": 23,
   "metadata": {},
   "outputs": [
    {
     "name": "stdout",
     "output_type": "stream",
     "text": [
      "['Fraud']\n"
     ]
    },
    {
     "name": "stderr",
     "output_type": "stream",
     "text": [
      "C:\\Users\\USER\\anaconda3\\lib\\site-packages\\sklearn\\base.py:420: UserWarning: X does not have valid feature names, but DecisionTreeClassifier was fitted with feature names\n",
      "  warnings.warn(\n"
     ]
    }
   ],
   "source": [
    "features = np.array([[1,1,181,181 ,0.0,21182,0.0,0]])\n",
    "print(model.predict(features))"
   ]
  },
  {
   "cell_type": "code",
   "execution_count": null,
   "metadata": {},
   "outputs": [],
   "source": []
  },
  {
   "cell_type": "code",
   "execution_count": null,
   "metadata": {},
   "outputs": [],
   "source": []
  },
  {
   "cell_type": "code",
   "execution_count": null,
   "metadata": {},
   "outputs": [],
   "source": []
  },
  {
   "cell_type": "code",
   "execution_count": null,
   "metadata": {},
   "outputs": [],
   "source": []
  }
 ],
 "metadata": {
  "kernelspec": {
   "display_name": "Python 3 (ipykernel)",
   "language": "python",
   "name": "python3"
  },
  "language_info": {
   "codemirror_mode": {
    "name": "ipython",
    "version": 3
   },
   "file_extension": ".py",
   "mimetype": "text/x-python",
   "name": "python",
   "nbconvert_exporter": "python",
   "pygments_lexer": "ipython3",
   "version": "3.10.9"
  },
  "vscode": {
   "interpreter": {
    "hash": "01816eab380b5789def30cd85e1f8da3f34122007dd4d78f58585a53351ea08b"
   }
  }
 },
 "nbformat": 4,
 "nbformat_minor": 2
}
